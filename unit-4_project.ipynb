{
 "cells": [
  {
   "cell_type": "markdown",
   "metadata": {},
   "source": [
    "#Unit 4 Project\n",
    "Draft a well-formed problem statement relevant to a business problem affecting your team, division, or organization.\n",
    "Include the following elements:\n",
    "\n",
    "Hypothesis/assumptions\n",
    "Goals and success metrics\n",
    "Risks or limitations\n",
    "Identify at least one relevant internal dataset and confirm that you have (or can get) the right access permissions."
   ]
  },
  {
   "cell_type": "markdown",
   "metadata": {},
   "source": [
    "###Problem Statement\n",
    "####Hypothesis/assumptions:\n",
    "**Conduct a study on how Airbnb can improve their current rental programs for tourists and visiting professionals in either or both of these cities.**\n",
    "\n",
    "1. Could prices/amenities be improved to help increase customers for a property? \n",
    "2. Is there an upward trend in new Airbnb listings and total Airbnb visitors to Seattle or Boston?"
   ]
  },
  {
   "cell_type": "markdown",
   "metadata": {},
   "source": [
    "###Goals and success metrics:\n",
    "\n",
    "1. How many days a year are homes available to rent?\n",
    "    a. is there a correlation between days available to rent and rental rates\n",
    "    b. during times where number of visitors increase, does the rental rate increase\n",
    "2. How much do people charge to rent their homes?\n",
    "    a. is there a correlation between rental rate and number of rentals per year\n",
    "    b. is there a correlation between rental price and reviews\n",
    "3. What are the most common words used to describe a listing?\n",
    "    a. is there a correlation between words used to describe a listing and number of rentals per year\n",
    "    b. do key words in description correlate to higher reviews"
   ]
  },
  {
   "cell_type": "markdown",
   "metadata": {},
   "source": [
    "###Risks or limitations:\n",
    "\n",
    "By only looking at two cities, Boston and Seattle, are we getting enough variation in population, amenities, interests, etc.\n",
    "\n",
    "This dataset only includes data through 2016, I will be searching for a more recent dataset from 2017-2019."
   ]
  },
  {
   "cell_type": "markdown",
   "metadata": {},
   "source": [
    "###Relevant Datasets:\n",
    "**Listings:** details about each rental property available to customers\n",
    "\n",
    "**Calendar:** when and what cost is each listing available\n",
    "\n",
    "**Reviews:** reviews left by customers\n",
    "\n",
    "**Additional Datasets:** Demographics, Econ State, Real Estate Prices, Venues"
   ]
  }
 ],
 "metadata": {
  "kernelspec": {
   "display_name": "Python 3",
   "language": "python",
   "name": "python3"
  },
  "language_info": {
   "codemirror_mode": {
    "name": "ipython",
    "version": 3
   },
   "file_extension": ".py",
   "mimetype": "text/x-python",
   "name": "python",
   "nbconvert_exporter": "python",
   "pygments_lexer": "ipython3",
   "version": "3.7.4"
  }
 },
 "nbformat": 4,
 "nbformat_minor": 2
}
